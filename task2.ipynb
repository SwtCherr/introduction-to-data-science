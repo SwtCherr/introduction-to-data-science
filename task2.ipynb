{
 "cells": [
  {
   "cell_type": "markdown",
   "metadata": {},
   "source": [
    "# <a href=\"https://mipt-stats.gitlab.io/courses/ad_mipt.html\">Phystech@DataScience</a>\n",
    "## Задание 2\n",
    "\n",
    "**Правила:**\n",
    "\n",
    "* Выполненную работу нужно отправить телеграм-боту `@miptstats_pds_bot`.\n",
    "* Дедлайн **26 февраля в 22:00**. После дедлайна работы не принимаются кроме случаев наличия уважительной причины.\n",
    "* Прислать нужно ноутбук в формате `ipynb`.\n",
    "* Решения, размещенные на каких-либо интернет-ресурсах не принимаются. Публикация решения может быть приравнена к предоставлении возможности списать.\n",
    "* Для выполнения задания используйте этот ноутбук в качестве основы, ничего не удаляя из него.\n",
    "\n",
    "-----"
   ]
  },
  {
   "cell_type": "code",
   "execution_count": 1,
   "metadata": {
    "id": "y9F9cOSRkh3_"
   },
   "outputs": [],
   "source": [
    "import numpy as np\n",
    "import scipy.stats as sps\n",
    "import pandas as pd\n",
    "\n",
    "from sklearn.datasets import load_diabetes\n",
    "from sklearn.model_selection import train_test_split\n",
    "from sklearn.datasets import make_blobs\n",
    "from sklearn import preprocessing\n",
    "\n",
    "from sklearn.linear_model import LinearRegression\n",
    "from sklearn.neighbors import KNeighborsClassifier\n",
    "\n",
    "import matplotlib.pyplot as plt\n",
    "import seaborn as sns\n",
    "sns.set(font_scale=1.3)\n",
    "\n",
    "import warnings\n",
    "warnings.filterwarnings('ignore')"
   ]
  },
  {
   "cell_type": "markdown",
   "metadata": {
    "id": "9tUvzn2cj31C"
   },
   "source": [
    "## Задача 1.\n",
    "\n",
    "Рассмотрим данные исследования 2004 года о зависимости риска развития диабета от пола, возраста, индекса массы тела, среднего кровяного давления и других показателей. \n",
    "\n",
    "Функция `sklearn.datasets.load_diabetes()` возвращает словарь. В поле `data` записана матрица регрессоров, в которой данные предварительно центрированы и нормированы. В поле `target` записана мера прогрессирования заболевания в течении года. В поле `DESCR` можно прочитать подробнее о данных."
   ]
  },
  {
   "cell_type": "markdown",
   "metadata": {
    "id": "w5gc2rJNj31I"
   },
   "source": [
    "### Загрузка данных"
   ]
  },
  {
   "cell_type": "code",
   "execution_count": 2,
   "metadata": {
    "id": "b6QhMHdJk0ro"
   },
   "outputs": [],
   "source": [
    "data = load_diabetes()"
   ]
  },
  {
   "cell_type": "markdown",
   "metadata": {
    "id": "FuPQNa2qkyxi"
   },
   "source": [
    "Посмотрим на описание датасета."
   ]
  },
  {
   "cell_type": "code",
   "execution_count": 3,
   "metadata": {
    "colab": {
     "base_uri": "https://localhost:8080/"
    },
    "id": "tqFH1K8Jj31J",
    "outputId": "699a32c1-613a-4e1c-f0b6-0fdb9b79caf6"
   },
   "outputs": [
    {
     "name": "stdout",
     "output_type": "stream",
     "text": [
      ".. _diabetes_dataset:\n",
      "\n",
      "Diabetes dataset\n",
      "----------------\n",
      "\n",
      "Ten baseline variables, age, sex, body mass index, average blood\n",
      "pressure, and six blood serum measurements were obtained for each of n =\n",
      "442 diabetes patients, as well as the response of interest, a\n",
      "quantitative measure of disease progression one year after baseline.\n",
      "\n",
      "**Data Set Characteristics:**\n",
      "\n",
      "  :Number of Instances: 442\n",
      "\n",
      "  :Number of Attributes: First 10 columns are numeric predictive values\n",
      "\n",
      "  :Target: Column 11 is a quantitative measure of disease progression one year after baseline\n",
      "\n",
      "  :Attribute Information:\n",
      "      - age     age in years\n",
      "      - sex\n",
      "      - bmi     body mass index\n",
      "      - bp      average blood pressure\n",
      "      - s1      tc, T-Cells (a type of white blood cells)\n",
      "      - s2      ldl, low-density lipoproteins\n",
      "      - s3      hdl, high-density lipoproteins\n",
      "      - s4      tch, thyroid stimulating hormone\n",
      "      - s5      ltg, lamotrigine\n",
      "      - s6      glu, blood sugar level\n",
      "\n",
      "Note: Each of these 10 feature variables have been mean centered and scaled by the standard deviation times `n_samples` (i.e. the sum of squares of each column totals 1).\n",
      "\n",
      "Source URL:\n",
      "https://www4.stat.ncsu.edu/~boos/var.select/diabetes.html\n",
      "\n",
      "For more information see:\n",
      "Bradley Efron, Trevor Hastie, Iain Johnstone and Robert Tibshirani (2004) \"Least Angle Regression,\" Annals of Statistics (with discussion), 407-499.\n",
      "(https://web.stanford.edu/~hastie/Papers/LARS/LeastAngle_2002.pdf)\n"
     ]
    }
   ],
   "source": [
    "print(data['DESCR'])"
   ]
  },
  {
   "cell_type": "markdown",
   "metadata": {
    "id": "vkYw4mddj31K"
   },
   "source": [
    "Поле `data` содержит матрицу размера 442 $\\times$ 10, где 442 — количество пациентов, а 10 — количество признаков (возраст, пол, и т.д.). \n",
    "Строки матрицы соответствуют пациентам, столбцы — признакам."
   ]
  },
  {
   "cell_type": "code",
   "execution_count": 4,
   "metadata": {
    "colab": {
     "base_uri": "https://localhost:8080/"
    },
    "id": "_y9bUW6Pj31K",
    "outputId": "2dd98a64-5bfa-498e-8b22-29d35234cb85",
    "scrolled": true
   },
   "outputs": [
    {
     "data": {
      "text/plain": [
       "(442, 10)"
      ]
     },
     "execution_count": 4,
     "metadata": {},
     "output_type": "execute_result"
    }
   ],
   "source": [
    "data['data'].shape"
   ]
  },
  {
   "cell_type": "markdown",
   "metadata": {
    "id": "gs9ZtWmhj31K"
   },
   "source": [
    "Целевая переменная $-$ мера прогрессирования заболевания в течении года.\n"
   ]
  },
  {
   "cell_type": "code",
   "execution_count": 5,
   "metadata": {
    "colab": {
     "base_uri": "https://localhost:8080/"
    },
    "id": "UkcxB5GAj31L",
    "outputId": "594f34f4-c4aa-4756-866b-95a25144b022"
   },
   "outputs": [
    {
     "data": {
      "text/plain": [
       "(442,)"
      ]
     },
     "execution_count": 5,
     "metadata": {},
     "output_type": "execute_result"
    }
   ],
   "source": [
    "data['target'].shape"
   ]
  },
  {
   "cell_type": "markdown",
   "metadata": {
    "id": "XaklAuUDj31L"
   },
   "source": [
    "Создайте матрицу регрессоров $X$ и столбец наблюдений $y$."
   ]
  },
  {
   "cell_type": "code",
   "execution_count": 6,
   "metadata": {
    "id": "klYxszn-j31L"
   },
   "outputs": [],
   "source": [
    "X, y = data['data'], data['target']"
   ]
  },
  {
   "cell_type": "markdown",
   "metadata": {
    "id": "CZRXHc0-j31L"
   },
   "source": [
    "### Обучение моделей\n",
    "\n",
    "Разбейте данные случайно на две части — обучающую и тестовую в соотношении 80:20.\n",
    "\n",
    "Если что-то забыли или что-то не понятно, можно почитать справку:"
   ]
  },
  {
   "cell_type": "code",
   "execution_count": 7,
   "metadata": {
    "id": "W480aZfXj31M"
   },
   "outputs": [
    {
     "data": {
      "text/plain": [
       "\u001b[0;31mSignature:\u001b[0m \u001b[0mtrain_test_split\u001b[0m\u001b[0;34m(\u001b[0m\u001b[0;34m*\u001b[0m\u001b[0marrays\u001b[0m\u001b[0;34m,\u001b[0m \u001b[0;34m**\u001b[0m\u001b[0moptions\u001b[0m\u001b[0;34m)\u001b[0m\u001b[0;34m\u001b[0m\u001b[0;34m\u001b[0m\u001b[0m\n",
       "\u001b[0;31mDocstring:\u001b[0m\n",
       "Split arrays or matrices into random train and test subsets\n",
       "\n",
       "Quick utility that wraps input validation and\n",
       "``next(ShuffleSplit().split(X, y))`` and application to input data\n",
       "into a single call for splitting (and optionally subsampling) data in a\n",
       "oneliner.\n",
       "\n",
       "Read more in the :ref:`User Guide <cross_validation>`.\n",
       "\n",
       "Parameters\n",
       "----------\n",
       "*arrays : sequence of indexables with same length / shape[0]\n",
       "    Allowed inputs are lists, numpy arrays, scipy-sparse\n",
       "    matrices or pandas dataframes.\n",
       "\n",
       "test_size : float or int, default=None\n",
       "    If float, should be between 0.0 and 1.0 and represent the proportion\n",
       "    of the dataset to include in the test split. If int, represents the\n",
       "    absolute number of test samples. If None, the value is set to the\n",
       "    complement of the train size. If ``train_size`` is also None, it will\n",
       "    be set to 0.25.\n",
       "\n",
       "train_size : float or int, default=None\n",
       "    If float, should be between 0.0 and 1.0 and represent the\n",
       "    proportion of the dataset to include in the train split. If\n",
       "    int, represents the absolute number of train samples. If None,\n",
       "    the value is automatically set to the complement of the test size.\n",
       "\n",
       "random_state : int or RandomState instance, default=None\n",
       "    Controls the shuffling applied to the data before applying the split.\n",
       "    Pass an int for reproducible output across multiple function calls.\n",
       "    See :term:`Glossary <random_state>`.\n",
       "\n",
       "\n",
       "shuffle : bool, default=True\n",
       "    Whether or not to shuffle the data before splitting. If shuffle=False\n",
       "    then stratify must be None.\n",
       "\n",
       "stratify : array-like, default=None\n",
       "    If not None, data is split in a stratified fashion, using this as\n",
       "    the class labels.\n",
       "\n",
       "Returns\n",
       "-------\n",
       "splitting : list, length=2 * len(arrays)\n",
       "    List containing train-test split of inputs.\n",
       "\n",
       "    .. versionadded:: 0.16\n",
       "        If the input is sparse, the output will be a\n",
       "        ``scipy.sparse.csr_matrix``. Else, output type is the same as the\n",
       "        input type.\n",
       "\n",
       "Examples\n",
       "--------\n",
       ">>> import numpy as np\n",
       ">>> from sklearn.model_selection import train_test_split\n",
       ">>> X, y = np.arange(10).reshape((5, 2)), range(5)\n",
       ">>> X\n",
       "array([[0, 1],\n",
       "       [2, 3],\n",
       "       [4, 5],\n",
       "       [6, 7],\n",
       "       [8, 9]])\n",
       ">>> list(y)\n",
       "[0, 1, 2, 3, 4]\n",
       "\n",
       ">>> X_train, X_test, y_train, y_test = train_test_split(\n",
       "...     X, y, test_size=0.33, random_state=42)\n",
       "...\n",
       ">>> X_train\n",
       "array([[4, 5],\n",
       "       [0, 1],\n",
       "       [6, 7]])\n",
       ">>> y_train\n",
       "[2, 0, 3]\n",
       ">>> X_test\n",
       "array([[2, 3],\n",
       "       [8, 9]])\n",
       ">>> y_test\n",
       "[1, 4]\n",
       "\n",
       ">>> train_test_split(y, shuffle=False)\n",
       "[[0, 1, 2], [3, 4]]\n",
       "\u001b[0;31mFile:\u001b[0m      ~/opt/anaconda3/lib/python3.8/site-packages/sklearn/model_selection/_split.py\n",
       "\u001b[0;31mType:\u001b[0m      function\n"
      ]
     },
     "metadata": {},
     "output_type": "display_data"
    }
   ],
   "source": [
    "train_test_split?"
   ]
  },
  {
   "cell_type": "code",
   "execution_count": 8,
   "metadata": {
    "id": "BUf0Wl9uj31M"
   },
   "outputs": [
    {
     "name": "stdout",
     "output_type": "stream",
     "text": [
      "(353, 10) (89, 10) (353,) (89,)\n"
     ]
    }
   ],
   "source": [
    "X_train, X_test, y_train, y_test = train_test_split(X, y, test_size=0.2, random_state = 42)\n",
    "\n",
    "print(X_train.shape, X_test.shape, y_train.shape, y_test.shape)"
   ]
  },
  {
   "cell_type": "markdown",
   "metadata": {
    "id": "L8f5Sw7Aj31M"
   },
   "source": [
    "Заведите модель линейной регрессии из `sklearn` и обучите ее по обучающей части данных."
   ]
  },
  {
   "cell_type": "code",
   "execution_count": 9,
   "metadata": {
    "id": "vn0JJh6Tj31M"
   },
   "outputs": [],
   "source": [
    "model = LinearRegression()\n",
    "model = model.fit(X, y)"
   ]
  },
  {
   "cell_type": "markdown",
   "metadata": {
    "id": "unlbAxTYj31N"
   },
   "source": [
    "Выведите кооэффициенты модели, включая свободный член."
   ]
  },
  {
   "cell_type": "code",
   "execution_count": 10,
   "metadata": {
    "id": "_JP9ZiDpj31N"
   },
   "outputs": [
    {
     "data": {
      "text/plain": [
       "array([ -10.01219782, -239.81908937,  519.83978679,  324.39042769,\n",
       "       -792.18416163,  476.74583782,  101.04457032,  177.06417623,\n",
       "        751.27932109,   67.62538639])"
      ]
     },
     "execution_count": 10,
     "metadata": {},
     "output_type": "execute_result"
    }
   ],
   "source": [
    "model.coef_ \n"
   ]
  },
  {
   "cell_type": "code",
   "execution_count": 11,
   "metadata": {},
   "outputs": [
    {
     "data": {
      "text/plain": [
       "152.1334841628965"
      ]
     },
     "execution_count": 11,
     "metadata": {},
     "output_type": "execute_result"
    }
   ],
   "source": [
    "model.intercept_"
   ]
  },
  {
   "cell_type": "markdown",
   "metadata": {
    "id": "ZMj2MTgdj31N"
   },
   "source": [
    "Посчитайте предсказания построенной модели на тестовой выборке"
   ]
  },
  {
   "cell_type": "code",
   "execution_count": 12,
   "metadata": {
    "id": "4WB74enfj31O"
   },
   "outputs": [
    {
     "name": "stdout",
     "output_type": "stream",
     "text": [
      "[146.64621068 174.7240982  142.31366526 284.13478714 124.51427625\n",
      "  99.14026374 257.23616403 192.3231713   97.80241129 114.24162642\n",
      " 100.70869427 166.82129568  57.49473392 207.99651918 103.56829281\n",
      " 129.8448476  221.77623752 244.30370588 191.16674356 214.02871163\n",
      " 213.58408893  89.83382843  72.73252701 189.19307553 158.71515746\n",
      " 155.50813249 183.50018707 172.85184399  52.60848094 113.0351432\n",
      " 172.14848891  91.00741773 136.93372685 182.64959461 172.55362727\n",
      " 199.27952034 127.75408702 124.02443772 148.49621551  58.62043851\n",
      "  73.91315064 105.20931175 159.9389204  148.37816611 177.26966106\n",
      "  63.27214662  77.05921006 112.81897436  52.53953733 170.67482041\n",
      " 150.50201654  69.84529943  95.1016223  109.99647408 177.17236996\n",
      " 152.75856279  98.75498537 206.11706979 124.01702527  80.48200416\n",
      " 191.53802295 207.8289973  140.4174259  106.9267784  133.61497308\n",
      " 203.75145711 174.16816194 163.01389345 128.82725506 147.72187623\n",
      " 186.39202728 198.06460718 235.18090808 145.63105805  76.79700486\n",
      " 153.63210613 199.02165018 211.8588945  157.79986195 202.4011919\n",
      " 113.11286302 142.60147066  61.07125918  60.94590955 118.44122343\n",
      "  79.94239571  80.10834588  53.47055785 165.48821056]\n"
     ]
    }
   ],
   "source": [
    "y_pred = model.predict(X_test)\n",
    "print(y_pred)"
   ]
  },
  {
   "cell_type": "markdown",
   "metadata": {
    "id": "wDTfApjPWPrr"
   },
   "source": [
    "Реализуйте метрики MSE, MAE, MAPE без использования `sklearn` и других готовых реализаций."
   ]
  },
  {
   "cell_type": "code",
   "execution_count": 14,
   "metadata": {
    "id": "yAY5KO-jWU6S"
   },
   "outputs": [],
   "source": [
    "def mean_squared_error(y_true, y_pred):\n",
    "    s = 0\n",
    "    for i in range (len(y_pred)):\n",
    "        s += (y_true[i] - y_pred[i]) ** 2\n",
    "    return s / len(y_pred)\n",
    "\n",
    "def mean_absolute_error(y_true, y_pred):\n",
    "    s = 0\n",
    "    for i in range (len(y_pred)):\n",
    "        s += abs(y_true[i] - y_pred[i])\n",
    "    return s / len(y_pred)\n",
    "\n",
    "def mean_absolute_percentage_error(y_true, y_pred):\n",
    "    s = 0\n",
    "    for i in range (len(y_pred)):\n",
    "        s += (abs(y_true[i] - y_pred[i])/ y_true[i])\n",
    "    return s  / len(y_pred) * 100"
   ]
  },
  {
   "cell_type": "markdown",
   "metadata": {
    "id": "VJfAkTn4j31O"
   },
   "source": [
    "Посчитайте MSE, MAE, MAPE на тестовой выборке и выведите с точностью до трех знаков после запятой."
   ]
  },
  {
   "cell_type": "code",
   "execution_count": 15,
   "metadata": {
    "id": "JkatiS-2j31O"
   },
   "outputs": [
    {
     "name": "stdout",
     "output_type": "stream",
     "text": [
      "MSE: 2.77e+03\n",
      "MAE: 42.2\n",
      "MAPE: 37.4%\n"
     ]
    }
   ],
   "source": [
    "print(f\"MSE: {mean_squared_error(y_test, y_pred) :.3}\")\n",
    "print(f\"MAE: {mean_absolute_error(y_test, y_pred) :.3}\")\n",
    "print(f\"MAPE: {mean_absolute_percentage_error(y_test, y_pred) :.3}%\")"
   ]
  },
  {
   "cell_type": "markdown",
   "metadata": {
    "id": "ffOGMzhZj31Q"
   },
   "source": [
    "Постройте графики зависимости предсказания прогрессирования заболевания от различных признаков по отдельности. При работе с конкретным признаком полагайте значения остальных признаков равными средним значениям этих признаков на тестовой выборке.\n",
    "\n",
    "\n",
    "\n",
    "Все графики нарисуйте в одном окне.\n",
    "\n",
    "\n",
    "\n",
    "*Может помочь следующий код:*\n",
    "\n",
    "`\n",
    "copies = np.tile(a, k).reshape((k, -len(a))) \n",
    "` *создает $k$ копий массива `a` размера (`len(a)`, ).* \n",
    "*Размер полученной матрицы $k \\times len(a)$.*\n",
    "\n",
    "*Также рекомендуется изучить ноутбуки с занятий.*\n",
    "\n",
    "\n",
    "\n"
   ]
  },
  {
   "cell_type": "code",
   "execution_count": 16,
   "metadata": {
    "id": "KQ4MVVZ4j31Q"
   },
   "outputs": [
    {
     "data": {
      "image/png": "[encoded data removed]",
      "text/plain": [
       "<Figure size 432x288 with 1 Axes>"
      ]
     },
     "metadata": {},
     "output_type": "display_data"
    },
    {
     "data": {
      "image/png": "[encoded data removed]",
      "text/plain": [
       "<Figure size 432x288 with 1 Axes>"
      ]
     },
     "metadata": {},
     "output_type": "display_data"
    },
    {
     "data": {
      "image/png": "[encoded data removed]",
      "text/plain": [
       "<Figure size 432x288 with 1 Axes>"
      ]
     },
     "metadata": {},
     "output_type": "display_data"
    },
    {
     "data": {
      "image/png": "[encoded data removed]",
      "text/plain": [
       "<Figure size 432x288 with 1 Axes>"
      ]
     },
     "metadata": {},
     "output_type": "display_data"
    },
    {
     "data": {
      "image/png": "[encoded data removed]",
      "text/plain": [
       "<Figure size 432x288 with 1 Axes>"
      ]
     },
     "metadata": {},
     "output_type": "display_data"
    },
    {
     "data": {
      "image/png": "[encoded data removed]",
      "text/plain": [
       "<Figure size 432x288 with 1 Axes>"
      ]
     },
     "metadata": {},
     "output_type": "display_data"
    },
    {
     "data": {
      "image/png": "[encoded data removed]",
      "text/plain": [
       "<Figure size 432x288 with 1 Axes>"
      ]
     },
     "metadata": {},
     "output_type": "display_data"
    },
    {
     "data": {
      "image/png": "[encoded data removed]",
      "text/plain": [
       "<Figure size 432x288 with 1 Axes>"
      ]
     },
     "metadata": {},
     "output_type": "display_data"
    },
    {
     "data": {
      "image/png": "[encoded data removed]",
      "text/plain": [
       "<Figure size 432x288 with 1 Axes>"
      ]
     },
     "metadata": {},
     "output_type": "display_data"
    },
    {
     "data": {
      "image/png": "[encoded data removed]",
      "text/plain": [
       "<Figure size 432x288 with 1 Axes>"
      ]
     },
     "metadata": {},
     "output_type": "display_data"
    }
   ],
   "source": [
    "aver_values = [col.mean() for col in X.T]\n",
    "\n",
    "for i in range (len(X.T)):\n",
    "    c = model.intercept_ + sum([aver_values[j] * model.coef_[j] for j in range(len(X.T)) if j != i])\n",
    "    x = np.array([j for j in range(-1000, 1000)]) / 1000\n",
    "    y = c + x * model.coef_[i]\n",
    "    s = \"Признак \" + str(i + 1) \n",
    "    plt.plot(x, y, label = s)\n",
    "    plt.legend()\n",
    "    plt.show()"
   ]
  },
  {
   "cell_type": "markdown",
   "metadata": {
    "id": "-EeYuy9q6iFu"
   },
   "source": [
    "### Своя реализация модели"
   ]
  },
  {
   "cell_type": "markdown",
   "metadata": {
    "id": "MadkefHAolFy"
   },
   "source": [
    "Теперь реализуем линейную регрессию самостоятельно, используя формулы с лекции.\n",
    "Вам нужно только заполнить прочерки в методах `fit` и `predict`."
   ]
  },
  {
   "cell_type": "code",
   "execution_count": 17,
   "metadata": {
    "id": "pYxZ7sIKokot"
   },
   "outputs": [],
   "source": [
    "class MyLinearRegression:\n",
    "    \"\"\"\n",
    "    Класс, реализующий линейную регрессию c помощью МНК.\n",
    "    \"\"\"\n",
    "    \n",
    "    def __init__(self):\n",
    "        pass\n",
    "        \n",
    "    def fit(self, X, Y):\n",
    "        \"\"\"\n",
    "        Функция обучения модели. \n",
    "        \n",
    "        Предполагается модель Y = X * theta + epsilon. \n",
    "        где X --- регрессор (матрица размера n x d), \n",
    "        Y --- отклик (матрица размера n x 1),\n",
    "        epsilon-ы имеют нормальное распределение\n",
    "\n",
    "        Обратите внимание, здесь нет intercept_\n",
    "        \"\"\"\n",
    "        \n",
    "        self.n, self.d = len(Y), len(X.T)\n",
    "        \n",
    "        self.theta = np.linalg.inv(X.T.dot(X)).dot(X.T).dot(Y)\n",
    "  \n",
    "        return self\n",
    "    \n",
    "        \n",
    "    def predict(self, X):\n",
    "        \"\"\"\n",
    "        Возвращает предсказание отклика на новых объектах X \n",
    "        и опционально доверительный/предсказательный интервал.\n",
    "        \n",
    "        X --- матрица объектов размера n x d\n",
    "                        \n",
    "        \"\"\"\n",
    "        \n",
    "        y_pred = X.dot(self.theta)\n",
    "        return y_pred "
   ]
  },
  {
   "cell_type": "markdown",
   "metadata": {
    "id": "wpnJWn-gpzM7"
   },
   "source": [
    "Обучите вашу модель на данных о диабете с добавлением свободного члена.\n",
    "Распечатайте коэффициенты и сравните их с коэффициентами модели из `sklearn`."
   ]
  },
  {
   "cell_type": "code",
   "execution_count": 18,
   "metadata": {
    "id": "atvrQ4N1pSdB"
   },
   "outputs": [
    {
     "data": {
      "text/plain": [
       "(array([  37.90031426, -241.96624835,  542.42575342,  347.70830529,\n",
       "        -931.46126093,  518.04405547,  163.40353476,  275.31003837,\n",
       "         736.18909839,   48.67112488,  151.34565535]),\n",
       " array([ -10.01219782, -239.81908937,  519.83978679,  324.39042769,\n",
       "        -792.18416163,  476.74583782,  101.04457032,  177.06417623,\n",
       "         751.27932109,   67.62538639]),\n",
       " 152.1334841628965)"
      ]
     },
     "execution_count": 18,
     "metadata": {},
     "output_type": "execute_result"
    }
   ],
   "source": [
    "my = MyLinearRegression()\n",
    "# создаём массив с последним столбцом из единиц, который будет свободным членом\n",
    "X_inter_train = np.column_stack((X_train, np.array([1 for i in range(len(X_train))]).T))\n",
    "X_inter_test = np.column_stack((X_test, np.array([1 for i in range(len(X_test))]).T))\n",
    "my_with_inter = my.fit(X_inter_train, y_train)\n",
    "my_with_inter.theta, model.coef_, model.intercept_"
   ]
  },
  {
   "cell_type": "markdown",
   "metadata": {
    "id": "BfNuu7Wcq0AP"
   },
   "source": [
    "Теперь обучите модель без свободного члена."
   ]
  },
  {
   "cell_type": "code",
   "execution_count": 19,
   "metadata": {
    "id": "cERxmrdyYIoa"
   },
   "outputs": [
    {
     "data": {
      "text/plain": [
       "<__main__.MyLinearRegression at 0x7fa16df175b0>"
      ]
     },
     "execution_count": 19,
     "metadata": {},
     "output_type": "execute_result"
    }
   ],
   "source": [
    "my_without_inter = MyLinearRegression()\n",
    "my_without_inter.fit(X_train, y_train)"
   ]
  },
  {
   "cell_type": "markdown",
   "metadata": {
    "id": "qN-iGWbzrLC3"
   },
   "source": [
    "Сравните качество моделей со свободным членом и без него на тестовой выборке."
   ]
  },
  {
   "cell_type": "code",
   "execution_count": 20,
   "metadata": {
    "id": "fW8UvbANqm3X"
   },
   "outputs": [
    {
     "name": "stdout",
     "output_type": "stream",
     "text": [
      "MAPE with intercept: 37.5%\n",
      "MAPE without intecept: 1.28e+02%\n"
     ]
    }
   ],
   "source": [
    "print(f\"MAPE with intercept: {mean_absolute_percentage_error(y_test, my_with_inter.predict(X_inter_test)) :.3}%\")\n",
    "print(f\"MAPE without intecept: {mean_absolute_percentage_error(y_test, my_without_inter.predict(X_test)) :.3}%\")"
   ]
  },
  {
   "cell_type": "markdown",
   "metadata": {
    "id": "TpllTM-HYN2F"
   },
   "source": [
    "Сделайте выводы."
   ]
  },
  {
   "cell_type": "markdown",
   "metadata": {
    "id": "VN5vFgAxYOyI"
   },
   "source": [
    "Свободный член сильно влияет на точность модели, поэтому его важно учитывать. Но не всегда, так как например бывают случаи, когда точно известно, что в нуле значение ноль (как было в одной из лаб, где мы исследовали зависимость сопростивления проволоки от её длины, там точно известно, что в нуле должно быть нулевое значение). "
   ]
  },
  {
   "cell_type": "markdown",
   "metadata": {
    "id": "8dgLXGn8_uPw"
   },
   "source": [
    "## Задача 2.\n",
    "\n",
    "### Часть 1"
   ]
  },
  {
   "cell_type": "markdown",
   "metadata": {
    "id": "Dorqdp--te0w"
   },
   "source": [
    "Скачайте [датасет](https://www.kaggle.com/deepu1109/star-dataset) и распакуйте. Вы получите файл `6 class csv.csv`. \n",
    "Он представляет собой таблицу некоторых характеристик звезд, таких как температура, радиус и т.д..\n",
    "В описании к датасету указаны следующие типы звезд:\n",
    "* Brown Dwarf (0),\n",
    "* Red Dwarf (1),\n",
    "* White Dwarf (2),\n",
    "* Main Sequence (3),\n",
    "* Supergiant (4),\n",
    "* Hypergiant (5).\n",
    "\n",
    "На основании характеристик мы хотим классифицировать звезды по типу. \n"
   ]
  },
  {
   "cell_type": "code",
   "execution_count": 21,
   "metadata": {
    "id": "wst4an0fgpwN"
   },
   "outputs": [
    {
     "data": {
      "text/html": [
       "<div>\n",
       "<style scoped>\n",
       "    .dataframe tbody tr th:only-of-type {\n",
       "        vertical-align: middle;\n",
       "    }\n",
       "\n",
       "    .dataframe tbody tr th {\n",
       "        vertical-align: top;\n",
       "    }\n",
       "\n",
       "    .dataframe thead th {\n",
       "        text-align: right;\n",
       "    }\n",
       "</style>\n",
       "<table border=\"1\" class=\"dataframe\">\n",
       "  <thead>\n",
       "    <tr style=\"text-align: right;\">\n",
       "      <th></th>\n",
       "      <th>Temperature (K)</th>\n",
       "      <th>Luminosity(L/Lo)</th>\n",
       "      <th>Radius(R/Ro)</th>\n",
       "      <th>Absolute magnitude(Mv)</th>\n",
       "      <th>Star type</th>\n",
       "      <th>Star color</th>\n",
       "      <th>Spectral Class</th>\n",
       "    </tr>\n",
       "  </thead>\n",
       "  <tbody>\n",
       "    <tr>\n",
       "      <th>0</th>\n",
       "      <td>3068</td>\n",
       "      <td>0.002400</td>\n",
       "      <td>0.1700</td>\n",
       "      <td>16.12</td>\n",
       "      <td>0</td>\n",
       "      <td>Red</td>\n",
       "      <td>M</td>\n",
       "    </tr>\n",
       "    <tr>\n",
       "      <th>1</th>\n",
       "      <td>3042</td>\n",
       "      <td>0.000500</td>\n",
       "      <td>0.1542</td>\n",
       "      <td>16.60</td>\n",
       "      <td>0</td>\n",
       "      <td>Red</td>\n",
       "      <td>M</td>\n",
       "    </tr>\n",
       "    <tr>\n",
       "      <th>2</th>\n",
       "      <td>2600</td>\n",
       "      <td>0.000300</td>\n",
       "      <td>0.1020</td>\n",
       "      <td>18.70</td>\n",
       "      <td>0</td>\n",
       "      <td>Red</td>\n",
       "      <td>M</td>\n",
       "    </tr>\n",
       "    <tr>\n",
       "      <th>3</th>\n",
       "      <td>2800</td>\n",
       "      <td>0.000200</td>\n",
       "      <td>0.1600</td>\n",
       "      <td>16.65</td>\n",
       "      <td>0</td>\n",
       "      <td>Red</td>\n",
       "      <td>M</td>\n",
       "    </tr>\n",
       "    <tr>\n",
       "      <th>4</th>\n",
       "      <td>1939</td>\n",
       "      <td>0.000138</td>\n",
       "      <td>0.1030</td>\n",
       "      <td>20.06</td>\n",
       "      <td>0</td>\n",
       "      <td>Red</td>\n",
       "      <td>M</td>\n",
       "    </tr>\n",
       "  </tbody>\n",
       "</table>\n",
       "</div>"
      ],
      "text/plain": [
       "   Temperature (K)  Luminosity(L/Lo)  Radius(R/Ro)  Absolute magnitude(Mv)  \\\n",
       "0             3068          0.002400        0.1700                   16.12   \n",
       "1             3042          0.000500        0.1542                   16.60   \n",
       "2             2600          0.000300        0.1020                   18.70   \n",
       "3             2800          0.000200        0.1600                   16.65   \n",
       "4             1939          0.000138        0.1030                   20.06   \n",
       "\n",
       "   Star type Star color Spectral Class  \n",
       "0          0        Red              M  \n",
       "1          0        Red              M  \n",
       "2          0        Red              M  \n",
       "3          0        Red              M  \n",
       "4          0        Red              M  "
      ]
     },
     "execution_count": 21,
     "metadata": {},
     "output_type": "execute_result"
    }
   ],
   "source": [
    "data = pd.read_csv(\"6 class csv.csv\")\n",
    "data.head()"
   ]
  },
  {
   "cell_type": "code",
   "execution_count": 22,
   "metadata": {
    "colab": {
     "base_uri": "https://localhost:8080/"
    },
    "id": "vSiobizjhAFq",
    "outputId": "c60a5df0-43ee-4cfb-abeb-98d7e44e8373"
   },
   "outputs": [
    {
     "data": {
      "text/plain": [
       "Index(['Temperature (K)', 'Luminosity(L/Lo)', 'Radius(R/Ro)',\n",
       "       'Absolute magnitude(Mv)', 'Star type', 'Star color', 'Spectral Class'],\n",
       "      dtype='object')"
      ]
     },
     "execution_count": 22,
     "metadata": {},
     "output_type": "execute_result"
    }
   ],
   "source": [
    "data.columns"
   ]
  },
  {
   "cell_type": "markdown",
   "metadata": {
    "id": "tumLMSvLu2N8"
   },
   "source": [
    "Для классификации с помощью kNN будем использовать только столбцы с числовыми значениями. \n",
    "Целевая переменная (класс) находится в столбце Star type.\n",
    "\n",
    "Разделите данные на признаки $X$ и целевую переменную $y$."
   ]
  },
  {
   "cell_type": "code",
   "execution_count": 23,
   "metadata": {
    "id": "iBkshzikg1jY"
   },
   "outputs": [],
   "source": [
    "needed_columns = [\n",
    "    'Temperature (K)', 'Luminosity(L/Lo)', 'Radius(R/Ro)', 'Absolute magnitude(Mv)'\n",
    "]\n",
    "X = np.array(data[needed_columns])\n",
    "y = np.array(data['Star type'])"
   ]
  },
  {
   "cell_type": "markdown",
   "metadata": {
    "id": "PUQi1JmUvQ1t"
   },
   "source": [
    "Разделите данные на тренировочную и тестовую выборки, `test_size` возьмите равным 0.3."
   ]
  },
  {
   "cell_type": "code",
   "execution_count": 24,
   "metadata": {
    "id": "AB1s7T2kgvij"
   },
   "outputs": [],
   "source": [
    "X_train, X_test, y_train, y_test = train_test_split(X, y, test_size=0.3)"
   ]
  },
  {
   "cell_type": "markdown",
   "metadata": {
    "id": "W20bDXyIvd2g"
   },
   "source": [
    "Заведите модель классификатора kNN из `sklearn`, параметр `n_neighbours` возьмите по умолчанию. Обучите модель на тренировочной выборке"
   ]
  },
  {
   "cell_type": "code",
   "execution_count": 25,
   "metadata": {
    "id": "6hSQFsk6g0H-"
   },
   "outputs": [
    {
     "data": {
      "text/plain": [
       "KNeighborsClassifier()"
      ]
     },
     "execution_count": 25,
     "metadata": {},
     "output_type": "execute_result"
    }
   ],
   "source": [
    "model = KNeighborsClassifier()\n",
    "model.fit(X_train, y_train)"
   ]
  },
  {
   "cell_type": "markdown",
   "metadata": {
    "id": "vBzXvjT_v9gj"
   },
   "source": [
    "Реализуйте метрику accuracy без использования `sklearn` и других ее готовых реализаций."
   ]
  },
  {
   "cell_type": "code",
   "execution_count": 28,
   "metadata": {
    "id": "074p5I5awM-4"
   },
   "outputs": [],
   "source": [
    "def accuracy_score(y_true, y_pred):\n",
    "    s = 0\n",
    "    for i in range (len(y_pred)):\n",
    "        if (y_true[i] == y_pred[i]):\n",
    "            s += 1\n",
    "    return s / len(y_pred)"
   ]
  },
  {
   "cell_type": "markdown",
   "metadata": {
    "id": "24IyJZv5wW0o"
   },
   "source": [
    "Посчитайте метрику качества по тренировочной и тестовой выборкам и выведите эти значения с точностью 4 знака после запятой."
   ]
  },
  {
   "cell_type": "code",
   "execution_count": 29,
   "metadata": {
    "id": "nMMsTsx3wQXK"
   },
   "outputs": [
    {
     "name": "stdout",
     "output_type": "stream",
     "text": [
      "accuracy_train 0.7321\n",
      "accuracy_test 0.7083\n"
     ]
    }
   ],
   "source": [
    "print(f\"accuracy_train {accuracy_score(y_train, model.predict(X_train)) :.4}\")\n",
    "print(f\"accuracy_test {accuracy_score(y_test, model.predict(X_test)) :.4}\")\n"
   ]
  },
  {
   "cell_type": "markdown",
   "metadata": {
    "id": "R6Ha0BaV-BIl"
   },
   "source": [
    "#### Нормализация данных"
   ]
  },
  {
   "cell_type": "markdown",
   "metadata": {
    "id": "9d-kHUvNwig1"
   },
   "source": [
    "Разные столбцы могут иметь разную величину значений. Из-за этого близость по одной координате может \"значить\" больше, чем близость по другой. Иногда разная значимость признаков может быть оправдана, но в данном случае попробуем нормализовать данные. Для этого воспользуемся  [`sklearn.preprocessing.StandardScaler()`](https://scikit-learn.org/stable/modules/generated/sklearn.preprocessing.StandardScaler.html)"
   ]
  },
  {
   "cell_type": "code",
   "execution_count": 30,
   "metadata": {
    "id": "ry9dFRrNhTO0"
   },
   "outputs": [
    {
     "data": {
      "text/plain": [
       "(array([1.10844881e+04, 1.06138670e+05, 2.12515871e+02, 4.24273810e+00]),\n",
       " array([1.00228461e+04, 1.75808536e+05, 4.99704736e+02, 1.03425999e+01]))"
      ]
     },
     "execution_count": 30,
     "metadata": {},
     "output_type": "execute_result"
    }
   ],
   "source": [
    "scaler = preprocessing.StandardScaler().fit(X_train)\n",
    "scaler.mean_, scaler.scale_"
   ]
  },
  {
   "cell_type": "markdown",
   "metadata": {
    "id": "97Eojr1Dxgsa"
   },
   "source": [
    "Преобразуйте даннные с помощью Scaler-a."
   ]
  },
  {
   "cell_type": "code",
   "execution_count": 31,
   "metadata": {
    "id": "L8SVjcP1hoxu"
   },
   "outputs": [],
   "source": [
    "X_train_scaled = scaler.transform(X_train)\n",
    "X_test_scaled = scaler.transform(X_test)"
   ]
  },
  {
   "cell_type": "markdown",
   "metadata": {
    "id": "eDjf9xwqx7BN"
   },
   "source": [
    "Обучите новый классификатор kNN на преобразованных данных."
   ]
  },
  {
   "cell_type": "code",
   "execution_count": 32,
   "metadata": {
    "id": "3K6nkwSUhwHv"
   },
   "outputs": [
    {
     "data": {
      "text/plain": [
       "KNeighborsClassifier()"
      ]
     },
     "execution_count": 32,
     "metadata": {},
     "output_type": "execute_result"
    }
   ],
   "source": [
    "model_scaled = KNeighborsClassifier()\n",
    "model_scaled.fit(X_train_scaled, y_train)"
   ]
  },
  {
   "cell_type": "markdown",
   "metadata": {
    "id": "enZuyzo-yHE6"
   },
   "source": [
    "Посчитайте метрику accuracy на тренировочной и тестовой выборке для новой модели."
   ]
  },
  {
   "cell_type": "code",
   "execution_count": 33,
   "metadata": {
    "id": "yuSS2fcliBF0"
   },
   "outputs": [
    {
     "name": "stdout",
     "output_type": "stream",
     "text": [
      "0.9861111111111112\n",
      "0.9940476190476191\n"
     ]
    }
   ],
   "source": [
    "print(accuracy_score(y_test, model_scaled.predict(X_test_scaled)))\n",
    "print(accuracy_score(y_train, model_scaled.predict(X_train_scaled)))"
   ]
  },
  {
   "cell_type": "markdown",
   "metadata": {
    "id": "RiOhuRZTyRjG"
   },
   "source": [
    "Сделайте выводы."
   ]
  },
  {
   "cell_type": "markdown",
   "metadata": {
    "id": "dy7c3xFsyWAb"
   },
   "source": [
    "**Вывод:** лучший результат дали отнормированные данные, тогда все параметры имели одинаковых вес. Полученные значения accuracy показали, что на отнормированных данных модель работает гораздо лучше. Поэтому нельзя необоснованно использовать неотнормированные данные. "
   ]
  },
  {
   "cell_type": "markdown",
   "metadata": {
    "id": "LMQ094NN-JGM"
   },
   "source": [
    "#### Обучение моделей"
   ]
  },
  {
   "cell_type": "markdown",
   "metadata": {
    "id": "nRlEVtf_y7x6"
   },
   "source": [
    "Теперь посмотрим, как зависит метрика качества моделей от $k$ — количества соседей.\n",
    "Обучите модели для каждого $k$ из массива `ks`. Посчитайте метрику качества этих моделей на тренировочной и тестовой выборках. То же проделайте и для нормализованных данных."
   ]
  },
  {
   "cell_type": "code",
   "execution_count": 34,
   "metadata": {
    "id": "KNB_UynUktWa"
   },
   "outputs": [],
   "source": [
    "ks = np.arange(1, 51, 2)  # различные значения k\n",
    "\n",
    "# Создание и обучение моделей:\n",
    "models = [KNeighborsClassifier(n_neighbors=k) for k in ks]  # массив моделей, элемент - одна модель\n",
    "for model in models:\n",
    "    model.fit(X_train, y_train)# можете писать свой дополнительный код при необходимости, а можете не писать\n",
    "\n",
    "# Подсчет метрики качества\n",
    "\n",
    "scores = [accuracy_score(y_test, elem.predict(X_test)) for elem in models]  # массив значений метрик качества моделей \n",
    "# из массива models на тестовой выборке, elem - одна модель\n",
    "# можете писать свой дополнительный код\n",
    "scores_train = [accuracy_score(y_train, elem.predict(X_train)) for elem in models]  # массив значений метрик качества на тренировочной выборке\n",
    "# можете писать свой дополнительный код\n",
    "\n",
    "models_scaled = [KNeighborsClassifier(n_neighbors=k) for k in ks]  \n",
    "for model in models_scaled:\n",
    "    model.fit(X_train_scaled, y_train)\n",
    "\n",
    "scores_scaled = [accuracy_score(y_test, elem.predict(X_test_scaled)) for elem in models_scaled]  \n",
    "\n",
    "scores_scaled_train = [accuracy_score(y_train, elem.predict(X_train_scaled)) for elem in models_scaled] "
   ]
  },
  {
   "cell_type": "markdown",
   "metadata": {
    "id": "piyfqfYmztya"
   },
   "source": [
    "Теперь постройте на одном графике четыре зависимости значений метрики качества от параметра $k$. Не забудьте подписать, чему какая линия соответствует, т.е. указать тренировочная или тестовая выборка, есть или нет нормализации, а также подпишите название и оси графика."
   ]
  },
  {
   "cell_type": "code",
   "execution_count": 35,
   "metadata": {
    "id": "dOW2W4uxly9W"
   },
   "outputs": [
    {
     "data": {
      "text/plain": [
       "Text(0.5, 0, 'accuracy')"
      ]
     },
     "execution_count": 35,
     "metadata": {},
     "output_type": "execute_result"
    },
    {
     "data": {
      "image/png": "[encoded data removed]",
      "text/plain": [
       "<Figure size 432x288 with 1 Axes>"
      ]
     },
     "metadata": {},
     "output_type": "display_data"
    }
   ],
   "source": [
    "plt.plot(ks, scores, label=\"scores\")\n",
    "plt.plot(ks, scores_train, label=\"scores_train\")\n",
    "plt.plot(ks, scores_scaled, label=\"scores_scaled\")\n",
    "plt.plot(ks, scores_scaled_train, label=\"scores_scaled_train\")\n",
    "plt.legend()\n",
    "plt.xlabel(\"k\")\n",
    "plt.xlabel(\"accuracy\")"
   ]
  },
  {
   "cell_type": "markdown",
   "metadata": {
    "id": "-a4MM9a-0NJC"
   },
   "source": [
    "Сделайте выводы."
   ]
  },
  {
   "cell_type": "markdown",
   "metadata": {
    "id": "h_9wnM2XmisD"
   },
   "source": [
    "**Вывод** наилучший результат дала модель, в которой данные были отнормированы, при этом оптимальное количество соседей не доолжно быть слишком маленьким или наоборот слишком большим. Здесь это количество соседей n лежит в районе 10. "
   ]
  },
  {
   "cell_type": "markdown",
   "metadata": {
    "id": "Y6LzLWnI_nI0"
   },
   "source": [
    "### Часть 2 "
   ]
  },
  {
   "cell_type": "markdown",
   "metadata": {
    "id": "JoGO5t0l0V3o"
   },
   "source": [
    "Теперь скачаем [датасет](https://www.kaggle.com/colearninglounge/predicting-pulsar-starintermediate) о предсказании пульсаров.\n",
    "\n",
    "\n",
    "\n"
   ]
  },
  {
   "cell_type": "markdown",
   "metadata": {
    "id": "Tfq3FzcfFaiC"
   },
   "source": [
    "Пульсары &mdash; это космические объекты, излучающие в различных диапазонах длины волны. Согласно современным астрофизическим теориям, пульсары представляют собой вращающиеся нейтронные звезды, обладающие магнитным полем, наклоненным относительно оси вращения.\n",
    "\n",
    "Пульсары представляют значительный научный интерес. Поэтому есть потребность в автоматическом обнаружении интересных объектов для ускорения процесса изучения. На практике почти все обнаружения вызваны радиочастотными помехами и шумом, что затрудняет поиск достоверных сигналов. В последнее время для автоматического обнаружения пульсаров начали применять машинное обучение. Актуальная задача сегодня &mdash; бинарная классификация объектов-кандидатов на предмет того, являются ли они пульсарами.\n",
    "\n",
    "В используемом датасете есть как примеры ложных обнаружений, так и примеры реальных пульсаров, подтвержденные учеными. Данные получены в результате [The High Time Resolution Universe Pulsar Survey I](https://arxiv.org/abs/1006.5744)."
   ]
  },
  {
   "cell_type": "markdown",
   "metadata": {
    "id": "l5cdwNc7FZRL"
   },
   "source": [
    "Мы будем работать только с файлом `pulsar_data_train.csv`."
   ]
  },
  {
   "cell_type": "code",
   "execution_count": 36,
   "metadata": {
    "id": "J_usqOs3iFE9"
   },
   "outputs": [],
   "source": [
    "data = pd.read_csv(\"pulsar_data_train.csv\")"
   ]
  },
  {
   "cell_type": "markdown",
   "metadata": {
    "id": "t2OfOUUH_-4V"
   },
   "source": [
    "Сигнал от пульсаров представляет собой периодические импульсы.\n",
    "\n",
    "Для описания объекта используется integrated profile (интегральный профиль) &mdash; агрегирование сигнала за разные периоды вращения (<a target=\"_blank\" href=\"http://ipta.phys.wvu.edu/files/student-week-2017/IPTA2017_KuoLiu_pulsartiming.pdf\">ссылка</a>, слайд 11). У всех пульсаров разные интегральные профили, и обычно эта характеристика мало меняется во времени.\n",
    "В данном датасете интегральный профиль также усреднен по частоте.\n",
    "\n",
    "Кроме того, импульс приходит в разное время на разных частотах. Задержка от частоты к частоте вызвана наличием ионизированной межзвездной среды и называется дисперсией. Не путать с дисперсией в теории вероятностей.\n",
    "\n",
    "С дисперсией связана еще одна характеристика объекта &mdash; DM-SNR кривая. Подробнее об этой характеристике можно почитать <a target=\"_blank\" href=\"https://arxiv.org/pdf/1005.5068.pdf#:~:text=period-DM%20diagram%3B%20good%20agreement,pulsars%20in%20their%20candidate%20plots.)\">в специализированных материалах</a>.\n",
    "\n",
    "Обе характеристики, integrated profile и DM-SNR кривая, представляют собой одномерные функции.\n",
    "При создании датасета значения функций были посчитаны в конечном количестве $n$ точек.\n",
    "Фактически, были получены реализации выборки двух случайных величин.\n",
    "\n",
    "Пусть $P = (p_1, \\ldots p_n)$ &mdash; массив значений integrated profile.\n",
    "Для него можно посчитать следующие статистики:\n",
    "\n",
    "1.   Выборочное среднее $\\bar p = \\frac{1}{n}\\sum \\limits_{i=1}^n p_i$;\n",
    "2.   Выборочное стандартное отклонение $\\sqrt{\\frac{1}{n}\\sum \\limits_{i=1}^n (p_i - \\bar p)^2}$;\n",
    "3. Выборочный коэффициент асимметрии (skewness);\n",
    "4. Выборочный коэффициент эксцесса (kurtosis).\n",
    "\n",
    "Для $D = (d_1, \\ldots d_n)$, массива значений DM-SNR, аналогично.\n",
    "\n",
    "Именно эти значения по массивам $P$ и $D$ являются признаками в данном датасете.\n",
    "\n",
    "Про коэффициенты эксцесса и асимметрии можно посмотреть <a target=\"_blank\" href=\"https://ru.wikipedia.org/wiki/%D0%9A%D0%BE%D1%8D%D1%84%D1%84%D0%B8%D1%86%D0%B8%D0%B5%D0%BD%D1%82_%D1%8D%D0%BA%D1%81%D1%86%D0%B5%D1%81%D1%81%D0%B0\">здесь</a> и <a target=\"_blank\" href=\"https://ru.wikipedia.org/wiki/%D0%9A%D0%BE%D1%8D%D1%84%D1%84%D0%B8%D1%86%D0%B8%D0%B5%D0%BD%D1%82_%D0%B0%D1%81%D0%B8%D0%BC%D0%BC%D0%B5%D1%82%D1%80%D0%B8%D0%B8\">здесь</a>, формулы для выборочных коэффициентов асимметрии и эксцесса можно найти в английской версии этих статей.\n",
    "\n",
    "<a target=\"_blank\" href=\"https://arxiv.org/pdf/1603.05166.pdf\">Статья</a> с подробным описанием процесса генерации данных.\n",
    "\n",
    "\n",
    "\n",
    "\n",
    "\n",
    "\n",
    "\n",
    "\n"
   ]
  },
  {
   "cell_type": "code",
   "execution_count": 37,
   "metadata": {
    "colab": {
     "base_uri": "https://localhost:8080/",
     "height": 238
    },
    "id": "40Zzx76G0xp_",
    "outputId": "69693e72-45eb-4657-a38f-8817953e2f76"
   },
   "outputs": [
    {
     "data": {
      "text/html": [
       "<div>\n",
       "<style scoped>\n",
       "    .dataframe tbody tr th:only-of-type {\n",
       "        vertical-align: middle;\n",
       "    }\n",
       "\n",
       "    .dataframe tbody tr th {\n",
       "        vertical-align: top;\n",
       "    }\n",
       "\n",
       "    .dataframe thead th {\n",
       "        text-align: right;\n",
       "    }\n",
       "</style>\n",
       "<table border=\"1\" class=\"dataframe\">\n",
       "  <thead>\n",
       "    <tr style=\"text-align: right;\">\n",
       "      <th></th>\n",
       "      <th>Mean of the integrated profile</th>\n",
       "      <th>Standard deviation of the integrated profile</th>\n",
       "      <th>Excess kurtosis of the integrated profile</th>\n",
       "      <th>Skewness of the integrated profile</th>\n",
       "      <th>Mean of the DM-SNR curve</th>\n",
       "      <th>Standard deviation of the DM-SNR curve</th>\n",
       "      <th>Excess kurtosis of the DM-SNR curve</th>\n",
       "      <th>Skewness of the DM-SNR curve</th>\n",
       "      <th>target_class</th>\n",
       "    </tr>\n",
       "  </thead>\n",
       "  <tbody>\n",
       "    <tr>\n",
       "      <th>0</th>\n",
       "      <td>121.156250</td>\n",
       "      <td>48.372971</td>\n",
       "      <td>0.375485</td>\n",
       "      <td>-0.013165</td>\n",
       "      <td>3.168896</td>\n",
       "      <td>18.399367</td>\n",
       "      <td>7.449874</td>\n",
       "      <td>65.159298</td>\n",
       "      <td>0.0</td>\n",
       "    </tr>\n",
       "    <tr>\n",
       "      <th>1</th>\n",
       "      <td>76.968750</td>\n",
       "      <td>36.175557</td>\n",
       "      <td>0.712898</td>\n",
       "      <td>3.388719</td>\n",
       "      <td>2.399666</td>\n",
       "      <td>17.570997</td>\n",
       "      <td>9.414652</td>\n",
       "      <td>102.722975</td>\n",
       "      <td>0.0</td>\n",
       "    </tr>\n",
       "    <tr>\n",
       "      <th>2</th>\n",
       "      <td>130.585938</td>\n",
       "      <td>53.229534</td>\n",
       "      <td>0.133408</td>\n",
       "      <td>-0.297242</td>\n",
       "      <td>2.743311</td>\n",
       "      <td>22.362553</td>\n",
       "      <td>8.508364</td>\n",
       "      <td>74.031324</td>\n",
       "      <td>0.0</td>\n",
       "    </tr>\n",
       "    <tr>\n",
       "      <th>3</th>\n",
       "      <td>156.398438</td>\n",
       "      <td>48.865942</td>\n",
       "      <td>-0.215989</td>\n",
       "      <td>-0.171294</td>\n",
       "      <td>17.471572</td>\n",
       "      <td>NaN</td>\n",
       "      <td>2.958066</td>\n",
       "      <td>7.197842</td>\n",
       "      <td>0.0</td>\n",
       "    </tr>\n",
       "    <tr>\n",
       "      <th>4</th>\n",
       "      <td>84.804688</td>\n",
       "      <td>36.117659</td>\n",
       "      <td>0.825013</td>\n",
       "      <td>3.274125</td>\n",
       "      <td>2.790134</td>\n",
       "      <td>20.618009</td>\n",
       "      <td>8.405008</td>\n",
       "      <td>76.291128</td>\n",
       "      <td>0.0</td>\n",
       "    </tr>\n",
       "  </tbody>\n",
       "</table>\n",
       "</div>"
      ],
      "text/plain": [
       "    Mean of the integrated profile  \\\n",
       "0                       121.156250   \n",
       "1                        76.968750   \n",
       "2                       130.585938   \n",
       "3                       156.398438   \n",
       "4                        84.804688   \n",
       "\n",
       "    Standard deviation of the integrated profile  \\\n",
       "0                                      48.372971   \n",
       "1                                      36.175557   \n",
       "2                                      53.229534   \n",
       "3                                      48.865942   \n",
       "4                                      36.117659   \n",
       "\n",
       "    Excess kurtosis of the integrated profile  \\\n",
       "0                                    0.375485   \n",
       "1                                    0.712898   \n",
       "2                                    0.133408   \n",
       "3                                   -0.215989   \n",
       "4                                    0.825013   \n",
       "\n",
       "    Skewness of the integrated profile   Mean of the DM-SNR curve  \\\n",
       "0                            -0.013165                   3.168896   \n",
       "1                             3.388719                   2.399666   \n",
       "2                            -0.297242                   2.743311   \n",
       "3                            -0.171294                  17.471572   \n",
       "4                             3.274125                   2.790134   \n",
       "\n",
       "    Standard deviation of the DM-SNR curve  \\\n",
       "0                                18.399367   \n",
       "1                                17.570997   \n",
       "2                                22.362553   \n",
       "3                                      NaN   \n",
       "4                                20.618009   \n",
       "\n",
       "    Excess kurtosis of the DM-SNR curve   Skewness of the DM-SNR curve  \\\n",
       "0                              7.449874                      65.159298   \n",
       "1                              9.414652                     102.722975   \n",
       "2                              8.508364                      74.031324   \n",
       "3                              2.958066                       7.197842   \n",
       "4                              8.405008                      76.291128   \n",
       "\n",
       "   target_class  \n",
       "0           0.0  \n",
       "1           0.0  \n",
       "2           0.0  \n",
       "3           0.0  \n",
       "4           0.0  "
      ]
     },
     "execution_count": 37,
     "metadata": {},
     "output_type": "execute_result"
    }
   ],
   "source": [
    "data.head()"
   ]
  },
  {
   "cell_type": "code",
   "execution_count": 38,
   "metadata": {
    "colab": {
     "base_uri": "https://localhost:8080/"
    },
    "id": "iHlrsNcR1Y5Z",
    "outputId": "9db6204b-e75d-4328-bcf5-e4d4e5b63e6b"
   },
   "outputs": [
    {
     "name": "stdout",
     "output_type": "stream",
     "text": [
      "<class 'pandas.core.frame.DataFrame'>\n",
      "RangeIndex: 12528 entries, 0 to 12527\n",
      "Data columns (total 9 columns):\n",
      " #   Column                                         Non-Null Count  Dtype  \n",
      "---  ------                                         --------------  -----  \n",
      " 0    Mean of the integrated profile                12528 non-null  float64\n",
      " 1    Standard deviation of the integrated profile  12528 non-null  float64\n",
      " 2    Excess kurtosis of the integrated profile     10793 non-null  float64\n",
      " 3    Skewness of the integrated profile            12528 non-null  float64\n",
      " 4    Mean of the DM-SNR curve                      12528 non-null  float64\n",
      " 5    Standard deviation of the DM-SNR curve        11350 non-null  float64\n",
      " 6    Excess kurtosis of the DM-SNR curve           12528 non-null  float64\n",
      " 7    Skewness of the DM-SNR curve                  11903 non-null  float64\n",
      " 8   target_class                                   12528 non-null  float64\n",
      "dtypes: float64(9)\n",
      "memory usage: 881.0 KB\n"
     ]
    }
   ],
   "source": [
    "data.info()"
   ]
  },
  {
   "cell_type": "markdown",
   "metadata": {
    "id": "x5Wg_a4V1m_Y"
   },
   "source": [
    "В этом датасете в некоторых столбцах есть пропуски в данных. Об этом говорит то, что значение Non-Null Count в таблице выше не равно количеству строк для некоторых столбцов. Чтобы не усложнять себе жизнь, пока просто не будем брать эти столбцы для анализа.\n",
    "\n",
    "Столбец `target_class` отвечает за целевую переменную — индикатор того, является ли объект пульсаром."
   ]
  },
  {
   "cell_type": "code",
   "execution_count": 39,
   "metadata": {
    "id": "YWW8q_2VijOI"
   },
   "outputs": [],
   "source": [
    "needed_columns = [' Mean of the integrated profile',\n",
    "       ' Standard deviation of the integrated profile',\n",
    "       ' Skewness of the integrated profile', ' Mean of the DM-SNR curve',\n",
    "       ' Excess kurtosis of the DM-SNR curve']  # используем только эти столбцы\n",
    "\n",
    "X = np.array(data[needed_columns])\n"
   ]
  },
  {
   "cell_type": "code",
   "execution_count": 40,
   "metadata": {
    "id": "_dbrJy_hil1M"
   },
   "outputs": [],
   "source": [
    "y = np.array(data['target_class'])"
   ]
  },
  {
   "cell_type": "markdown",
   "metadata": {
    "id": "OshdecGI2FQE"
   },
   "source": [
    "Разделите данные на train и test, установив `test_size=0.15`."
   ]
  },
  {
   "cell_type": "code",
   "execution_count": 41,
   "metadata": {
    "id": "Cq6u-47nkOo8"
   },
   "outputs": [],
   "source": [
    "X_train, X_test, y_train, y_test = train_test_split(X, y, test_size=0.15)"
   ]
  },
  {
   "cell_type": "markdown",
   "metadata": {
    "id": "hGvKSa4z35X8"
   },
   "source": [
    "Обучите стандартный классификатор kNN на тренировочных данные. Выведите значения метрик качества на тренировочной и тестовой выборках."
   ]
  },
  {
   "cell_type": "code",
   "execution_count": 42,
   "metadata": {
    "id": "Um0kACVJEpsA"
   },
   "outputs": [
    {
     "name": "stdout",
     "output_type": "stream",
     "text": [
      "accuracy_train 0.9787\n",
      "accuracy_test 0.9676\n"
     ]
    }
   ],
   "source": [
    "model = KNeighborsClassifier()\n",
    "model.fit(X_train, y_train)\n",
    "\n",
    "print(f\"accuracy_train {accuracy_score(y_train, model.predict(X_train)) :.4}\")\n",
    "print(f\"accuracy_test {accuracy_score(y_test, model.predict(X_test)) :.4}\")\n",
    "\n"
   ]
  },
  {
   "cell_type": "markdown",
   "metadata": {
    "id": "tnFqs-Ij4CuX"
   },
   "source": [
    "Теперь посчитайте долю правильных ответов по каждому классу. Напишите вычисления этих долей самостоятельно. \n",
    "\n",
    "Сравните результаты. Одинаково ли хорошо предсказан каждый класс? Сделайте выводы."
   ]
  },
  {
   "cell_type": "code",
   "execution_count": 44,
   "metadata": {
    "id": "w5Sdk2yZ4R-9"
   },
   "outputs": [
    {
     "data": {
      "text/plain": [
       "(0.993934065934066, 0.8100607111882047)"
      ]
     },
     "execution_count": 44,
     "metadata": {},
     "output_type": "execute_result"
    }
   ],
   "source": [
    "n_p = sum(y)\n",
    "n_s = len(y) - n_p\n",
    "\n",
    "y_pred = model.predict(X)\n",
    "\n",
    "s = 0\n",
    "for i in range (len(y_pred)):\n",
    "    if (y[i] == y_pred[i] == 0):\n",
    "        s += 1\n",
    "x_s = s / n_s\n",
    "\n",
    "s = 0\n",
    "for i in range (len(y_pred)):\n",
    "    if (y[i] == y_pred[i] == 1):\n",
    "        s += 1\n",
    "x_p = s / n_p\n",
    "\n",
    "\n",
    "x_s, x_p"
   ]
  },
  {
   "cell_type": "markdown",
   "metadata": {
    "id": "b-_iN9OFEQyC"
   },
   "source": [
    "Подберите оптимальное число соседей с использованием метрики accuracy. Сделайте выводы."
   ]
  },
  {
   "cell_type": "code",
   "execution_count": 49,
   "metadata": {
    "id": "2jRW_fLVEyIE"
   },
   "outputs": [
    {
     "name": "stdout",
     "output_type": "stream",
     "text": [
      "8\n"
     ]
    }
   ],
   "source": [
    "ks = np.arange(1, 51, 1)  \n",
    "models = [KNeighborsClassifier(n_neighbors=k) for k in ks]  \n",
    "for model in models:\n",
    "    model.fit(X_train, y_train)\n",
    "scores = [accuracy_score(y_test, elem.predict(X_test)) for elem in models] \n",
    "print(scores.index(max(scores)) + 1)\n",
    "\n"
   ]
  },
  {
   "cell_type": "markdown",
   "metadata": {
    "id": "afdUl0rbYzqz"
   },
   "source": [
    "Дополнительно можно почитать о классификации пульсаров, например, в <a target=\"_blank\" href=\"https://medium.com/duke-ai-society-blog/classifying-pulsar-stars-using-ai-techniques-d2be70c0f691\">этой статье</a>."
   ]
  },
  {
   "cell_type": "markdown",
   "metadata": {},
   "source": [
    "**Вывод:** мы опять убедились в том, что наиболее хорошая модель получится, если брать не очень большое, и не очень маленькое количество соседей. В этом примере получилось, что наиболее точный результат при количестве соседей n = 8."
   ]
  },
  {
   "cell_type": "code",
   "execution_count": null,
   "metadata": {},
   "outputs": [],
   "source": []
  }
 ],
 "metadata": {
  "colab": {
   "collapsed_sections": [],
   "name": "Регрессия пропуски.ipynb\"",
   "provenance": []
  },
  "kernelspec": {
   "display_name": "Python 3",
   "language": "python",
   "name": "python3"
  },
  "language_info": {
   "codemirror_mode": {
    "name": "ipython",
    "version": 3
   },
   "file_extension": ".py",
   "mimetype": "text/x-python",
   "name": "python",
   "nbconvert_exporter": "python",
   "pygments_lexer": "ipython3",
   "version": "3.8.5"
  }
 },
 "nbformat": 4,
 "nbformat_minor": 4
}
